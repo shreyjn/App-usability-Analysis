{
 "cells": [
  {
   "cell_type": "code",
   "execution_count": 1,
   "metadata": {},
   "outputs": [],
   "source": [
    "import pandas as pd\n",
    "import numpy as np"
   ]
  },
  {
   "cell_type": "code",
   "execution_count": 13,
   "metadata": {},
   "outputs": [],
   "source": [
    "df=pd.read_csv('C://Users//User//Downloads//UPI_txn.csv', sep=',', header=None)"
   ]
  },
  {
   "cell_type": "code",
   "execution_count": 14,
   "metadata": {},
   "outputs": [
    {
     "data": {
      "text/html": [
       "<div>\n",
       "<style scoped>\n",
       "    .dataframe tbody tr th:only-of-type {\n",
       "        vertical-align: middle;\n",
       "    }\n",
       "\n",
       "    .dataframe tbody tr th {\n",
       "        vertical-align: top;\n",
       "    }\n",
       "\n",
       "    .dataframe thead th {\n",
       "        text-align: right;\n",
       "    }\n",
       "</style>\n",
       "<table border=\"1\" class=\"dataframe\">\n",
       "  <thead>\n",
       "    <tr style=\"text-align: right;\">\n",
       "      <th></th>\n",
       "      <th>0</th>\n",
       "    </tr>\n",
       "  </thead>\n",
       "  <tbody>\n",
       "    <tr>\n",
       "      <th>0</th>\n",
       "      <td>{\"orderId\":\"7954877950273553\",\"trackingId\":\"10...</td>\n",
       "    </tr>\n",
       "    <tr>\n",
       "      <th>1</th>\n",
       "      <td>{\"orderId\":\"6820867014627101\",\"trackingId\":\"10...</td>\n",
       "    </tr>\n",
       "    <tr>\n",
       "      <th>2</th>\n",
       "      <td>{\"orderId\":\"6462520403870214\",\"trackingId\":\"10...</td>\n",
       "    </tr>\n",
       "    <tr>\n",
       "      <th>3</th>\n",
       "      <td>{\"orderId\":\"3625495697323194\",\"trackingId\":\"10...</td>\n",
       "    </tr>\n",
       "    <tr>\n",
       "      <th>4</th>\n",
       "      <td>{\"orderId\":\"4720020327507504\",\"trackingId\":\"10...</td>\n",
       "    </tr>\n",
       "  </tbody>\n",
       "</table>\n",
       "</div>"
      ],
      "text/plain": [
       "                                                   0\n",
       "0  {\"orderId\":\"7954877950273553\",\"trackingId\":\"10...\n",
       "1  {\"orderId\":\"6820867014627101\",\"trackingId\":\"10...\n",
       "2  {\"orderId\":\"6462520403870214\",\"trackingId\":\"10...\n",
       "3  {\"orderId\":\"3625495697323194\",\"trackingId\":\"10...\n",
       "4  {\"orderId\":\"4720020327507504\",\"trackingId\":\"10..."
      ]
     },
     "execution_count": 14,
     "metadata": {},
     "output_type": "execute_result"
    }
   ],
   "source": [
    "df.head()"
   ]
  },
  {
   "cell_type": "code",
   "execution_count": 15,
   "metadata": {},
   "outputs": [],
   "source": [
    "df.columns=['p']"
   ]
  },
  {
   "cell_type": "code",
   "execution_count": 16,
   "metadata": {},
   "outputs": [
    {
     "data": {
      "text/html": [
       "<div>\n",
       "<style scoped>\n",
       "    .dataframe tbody tr th:only-of-type {\n",
       "        vertical-align: middle;\n",
       "    }\n",
       "\n",
       "    .dataframe tbody tr th {\n",
       "        vertical-align: top;\n",
       "    }\n",
       "\n",
       "    .dataframe thead th {\n",
       "        text-align: right;\n",
       "    }\n",
       "</style>\n",
       "<table border=\"1\" class=\"dataframe\">\n",
       "  <thead>\n",
       "    <tr style=\"text-align: right;\">\n",
       "      <th></th>\n",
       "      <th>p</th>\n",
       "    </tr>\n",
       "  </thead>\n",
       "  <tbody>\n",
       "    <tr>\n",
       "      <th>0</th>\n",
       "      <td>{\"orderId\":\"7954877950273553\",\"trackingId\":\"10...</td>\n",
       "    </tr>\n",
       "    <tr>\n",
       "      <th>1</th>\n",
       "      <td>{\"orderId\":\"6820867014627101\",\"trackingId\":\"10...</td>\n",
       "    </tr>\n",
       "    <tr>\n",
       "      <th>2</th>\n",
       "      <td>{\"orderId\":\"6462520403870214\",\"trackingId\":\"10...</td>\n",
       "    </tr>\n",
       "    <tr>\n",
       "      <th>3</th>\n",
       "      <td>{\"orderId\":\"3625495697323194\",\"trackingId\":\"10...</td>\n",
       "    </tr>\n",
       "    <tr>\n",
       "      <th>4</th>\n",
       "      <td>{\"orderId\":\"4720020327507504\",\"trackingId\":\"10...</td>\n",
       "    </tr>\n",
       "  </tbody>\n",
       "</table>\n",
       "</div>"
      ],
      "text/plain": [
       "                                                   p\n",
       "0  {\"orderId\":\"7954877950273553\",\"trackingId\":\"10...\n",
       "1  {\"orderId\":\"6820867014627101\",\"trackingId\":\"10...\n",
       "2  {\"orderId\":\"6462520403870214\",\"trackingId\":\"10...\n",
       "3  {\"orderId\":\"3625495697323194\",\"trackingId\":\"10...\n",
       "4  {\"orderId\":\"4720020327507504\",\"trackingId\":\"10..."
      ]
     },
     "execution_count": 16,
     "metadata": {},
     "output_type": "execute_result"
    }
   ],
   "source": [
    "df.head()"
   ]
  },
  {
   "cell_type": "code",
   "execution_count": 20,
   "metadata": {},
   "outputs": [],
   "source": [
    "df[\"p\"] = df[\"p\"].apply(lambda x : dict(eval(x)))"
   ]
  },
  {
   "cell_type": "code",
   "execution_count": 21,
   "metadata": {},
   "outputs": [
    {
     "data": {
      "text/html": [
       "<div>\n",
       "<style scoped>\n",
       "    .dataframe tbody tr th:only-of-type {\n",
       "        vertical-align: middle;\n",
       "    }\n",
       "\n",
       "    .dataframe tbody tr th {\n",
       "        vertical-align: top;\n",
       "    }\n",
       "\n",
       "    .dataframe thead th {\n",
       "        text-align: right;\n",
       "    }\n",
       "</style>\n",
       "<table border=\"1\" class=\"dataframe\">\n",
       "  <thead>\n",
       "    <tr style=\"text-align: right;\">\n",
       "      <th></th>\n",
       "      <th>p</th>\n",
       "    </tr>\n",
       "  </thead>\n",
       "  <tbody>\n",
       "    <tr>\n",
       "      <th>0</th>\n",
       "      <td>{'orderId': '7954877950273553', 'trackingId': ...</td>\n",
       "    </tr>\n",
       "    <tr>\n",
       "      <th>1</th>\n",
       "      <td>{'orderId': '6820867014627101', 'trackingId': ...</td>\n",
       "    </tr>\n",
       "    <tr>\n",
       "      <th>2</th>\n",
       "      <td>{'orderId': '6462520403870214', 'trackingId': ...</td>\n",
       "    </tr>\n",
       "    <tr>\n",
       "      <th>3</th>\n",
       "      <td>{'orderId': '3625495697323194', 'trackingId': ...</td>\n",
       "    </tr>\n",
       "    <tr>\n",
       "      <th>4</th>\n",
       "      <td>{'orderId': '4720020327507504', 'trackingId': ...</td>\n",
       "    </tr>\n",
       "  </tbody>\n",
       "</table>\n",
       "</div>"
      ],
      "text/plain": [
       "                                                   p\n",
       "0  {'orderId': '7954877950273553', 'trackingId': ...\n",
       "1  {'orderId': '6820867014627101', 'trackingId': ...\n",
       "2  {'orderId': '6462520403870214', 'trackingId': ...\n",
       "3  {'orderId': '3625495697323194', 'trackingId': ...\n",
       "4  {'orderId': '4720020327507504', 'trackingId': ..."
      ]
     },
     "execution_count": 21,
     "metadata": {},
     "output_type": "execute_result"
    }
   ],
   "source": [
    "df.head()"
   ]
  },
  {
   "cell_type": "code",
   "execution_count": 22,
   "metadata": {},
   "outputs": [],
   "source": [
    "df2 = df[\"p\"].apply(pd.Series)"
   ]
  },
  {
   "cell_type": "code",
   "execution_count": 25,
   "metadata": {},
   "outputs": [
    {
     "data": {
      "text/html": [
       "<div>\n",
       "<style scoped>\n",
       "    .dataframe tbody tr th:only-of-type {\n",
       "        vertical-align: middle;\n",
       "    }\n",
       "\n",
       "    .dataframe tbody tr th {\n",
       "        vertical-align: top;\n",
       "    }\n",
       "\n",
       "    .dataframe thead th {\n",
       "        text-align: right;\n",
       "    }\n",
       "</style>\n",
       "<table border=\"1\" class=\"dataframe\">\n",
       "  <thead>\n",
       "    <tr style=\"text-align: right;\">\n",
       "      <th></th>\n",
       "      <th>amount</th>\n",
       "      <th>bankRefNo</th>\n",
       "      <th>billingAddress</th>\n",
       "      <th>billingCity</th>\n",
       "      <th>billingCountry</th>\n",
       "      <th>billingEmail</th>\n",
       "      <th>billingName</th>\n",
       "      <th>billingNotes</th>\n",
       "      <th>billingState</th>\n",
       "      <th>billingTel</th>\n",
       "      <th>...</th>\n",
       "      <th>orderStatus</th>\n",
       "      <th>paymentMode</th>\n",
       "      <th>responseCode</th>\n",
       "      <th>retry</th>\n",
       "      <th>statusCode</th>\n",
       "      <th>statusMessage</th>\n",
       "      <th>tempToken</th>\n",
       "      <th>trackingId</th>\n",
       "      <th>transDate</th>\n",
       "      <th>vault</th>\n",
       "    </tr>\n",
       "  </thead>\n",
       "  <tbody>\n",
       "    <tr>\n",
       "      <th>0</th>\n",
       "      <td>300.0</td>\n",
       "      <td>729010756095</td>\n",
       "      <td>IndiQube Alpha - ORR</td>\n",
       "      <td>Bangalore</td>\n",
       "      <td>India</td>\n",
       "      <td>vinodn@eximiusdesign.com</td>\n",
       "      <td>Vinod raj</td>\n",
       "      <td></td>\n",
       "      <td>KA</td>\n",
       "      <td>9742503373</td>\n",
       "      <td>...</td>\n",
       "      <td>Success</td>\n",
       "      <td>Unified Payments</td>\n",
       "      <td>0</td>\n",
       "      <td>N</td>\n",
       "      <td>null</td>\n",
       "      <td>null</td>\n",
       "      <td>d7e21bd0-b2f9-11e7-8a35-3350d76b6588</td>\n",
       "      <td>106289381919</td>\n",
       "      <td>17/10/2017 10:43:36</td>\n",
       "      <td>N</td>\n",
       "    </tr>\n",
       "    <tr>\n",
       "      <th>1</th>\n",
       "      <td>1.0</td>\n",
       "      <td>729011900508</td>\n",
       "      <td>IndiQube Alpha - ORR</td>\n",
       "      <td>Bangalore</td>\n",
       "      <td>India</td>\n",
       "      <td>shrinath.shenoy@techpearl.com</td>\n",
       "      <td>Shrinath Shenoy</td>\n",
       "      <td></td>\n",
       "      <td>KA</td>\n",
       "      <td>9448556822</td>\n",
       "      <td>...</td>\n",
       "      <td>Success</td>\n",
       "      <td>Unified Payments</td>\n",
       "      <td></td>\n",
       "      <td>N</td>\n",
       "      <td></td>\n",
       "      <td>Success</td>\n",
       "      <td>70939680-b2fd-11e7-8a35-3350d76b6588</td>\n",
       "      <td>106289395456</td>\n",
       "      <td>2017-10-17 11:13:29.43</td>\n",
       "      <td>N</td>\n",
       "    </tr>\n",
       "    <tr>\n",
       "      <th>2</th>\n",
       "      <td>100.0</td>\n",
       "      <td>null</td>\n",
       "      <td>IndiQube Alpha - ORR</td>\n",
       "      <td>Bangalore</td>\n",
       "      <td>India</td>\n",
       "      <td>adeshpande@xebia.com</td>\n",
       "      <td>Aniket Deshpande</td>\n",
       "      <td></td>\n",
       "      <td>KA</td>\n",
       "      <td>7795029206</td>\n",
       "      <td>...</td>\n",
       "      <td>Failure</td>\n",
       "      <td>Unified Payments</td>\n",
       "      <td>0</td>\n",
       "      <td>N</td>\n",
       "      <td>null</td>\n",
       "      <td>null</td>\n",
       "      <td>9217a440-b7c6-11e7-8a35-3350d76b6588</td>\n",
       "      <td>106291281486</td>\n",
       "      <td>23/10/2017 13:19:23</td>\n",
       "      <td>N</td>\n",
       "    </tr>\n",
       "    <tr>\n",
       "      <th>3</th>\n",
       "      <td>100.0</td>\n",
       "      <td>729614807535</td>\n",
       "      <td>IndiQube Alpha - ORR</td>\n",
       "      <td>Bangalore</td>\n",
       "      <td>India</td>\n",
       "      <td>rohan@versa-networks.com</td>\n",
       "      <td>Rohan Pai</td>\n",
       "      <td></td>\n",
       "      <td>KA</td>\n",
       "      <td>9980129406</td>\n",
       "      <td>...</td>\n",
       "      <td>Success</td>\n",
       "      <td>Unified Payments</td>\n",
       "      <td>0</td>\n",
       "      <td>N</td>\n",
       "      <td>null</td>\n",
       "      <td>null</td>\n",
       "      <td>556fe800-b7cf-11e7-958d-03922d49b860</td>\n",
       "      <td>106291307191</td>\n",
       "      <td>23/10/2017 14:21:51</td>\n",
       "      <td>N</td>\n",
       "    </tr>\n",
       "    <tr>\n",
       "      <th>4</th>\n",
       "      <td>10.0</td>\n",
       "      <td>729717762830</td>\n",
       "      <td>IndiQube Alpha - ORR</td>\n",
       "      <td>Bangalore</td>\n",
       "      <td>India</td>\n",
       "      <td>manish.vardhan@bluestone.com</td>\n",
       "      <td>Manish Vardhan</td>\n",
       "      <td></td>\n",
       "      <td>KA</td>\n",
       "      <td>8861617786</td>\n",
       "      <td>...</td>\n",
       "      <td>Success</td>\n",
       "      <td>Unified Payments</td>\n",
       "      <td>0</td>\n",
       "      <td>N</td>\n",
       "      <td></td>\n",
       "      <td>null</td>\n",
       "      <td>8a74c4c0-b8b1-11e7-8a35-3350d76b6588</td>\n",
       "      <td>106291752691</td>\n",
       "      <td>24/10/2017 17:22:01</td>\n",
       "      <td>N</td>\n",
       "    </tr>\n",
       "  </tbody>\n",
       "</table>\n",
       "<p>5 rows × 43 columns</p>\n",
       "</div>"
      ],
      "text/plain": [
       "  amount     bankRefNo        billingAddress billingCity billingCountry  \\\n",
       "0  300.0  729010756095  IndiQube Alpha - ORR   Bangalore          India   \n",
       "1    1.0  729011900508  IndiQube Alpha - ORR   Bangalore          India   \n",
       "2  100.0          null  IndiQube Alpha - ORR   Bangalore          India   \n",
       "3  100.0  729614807535  IndiQube Alpha - ORR   Bangalore          India   \n",
       "4   10.0  729717762830  IndiQube Alpha - ORR   Bangalore          India   \n",
       "\n",
       "                    billingEmail       billingName billingNotes billingState  \\\n",
       "0       vinodn@eximiusdesign.com         Vinod raj                        KA   \n",
       "1  shrinath.shenoy@techpearl.com   Shrinath Shenoy                        KA   \n",
       "2           adeshpande@xebia.com  Aniket Deshpande                        KA   \n",
       "3       rohan@versa-networks.com         Rohan Pai                        KA   \n",
       "4   manish.vardhan@bluestone.com    Manish Vardhan                        KA   \n",
       "\n",
       "   billingTel  ...  orderStatus       paymentMode responseCode retry  \\\n",
       "0  9742503373  ...      Success  Unified Payments            0     N   \n",
       "1  9448556822  ...      Success  Unified Payments                  N   \n",
       "2  7795029206  ...      Failure  Unified Payments            0     N   \n",
       "3  9980129406  ...      Success  Unified Payments            0     N   \n",
       "4  8861617786  ...      Success  Unified Payments            0     N   \n",
       "\n",
       "  statusCode statusMessage                             tempToken  \\\n",
       "0       null          null  d7e21bd0-b2f9-11e7-8a35-3350d76b6588   \n",
       "1                  Success  70939680-b2fd-11e7-8a35-3350d76b6588   \n",
       "2       null          null  9217a440-b7c6-11e7-8a35-3350d76b6588   \n",
       "3       null          null  556fe800-b7cf-11e7-958d-03922d49b860   \n",
       "4                     null  8a74c4c0-b8b1-11e7-8a35-3350d76b6588   \n",
       "\n",
       "     trackingId               transDate vault  \n",
       "0  106289381919     17/10/2017 10:43:36     N  \n",
       "1  106289395456  2017-10-17 11:13:29.43     N  \n",
       "2  106291281486     23/10/2017 13:19:23     N  \n",
       "3  106291307191     23/10/2017 14:21:51     N  \n",
       "4  106291752691     24/10/2017 17:22:01     N  \n",
       "\n",
       "[5 rows x 43 columns]"
      ]
     },
     "execution_count": 25,
     "metadata": {},
     "output_type": "execute_result"
    }
   ],
   "source": [
    "df2.head()"
   ]
  },
  {
   "cell_type": "code",
   "execution_count": 41,
   "metadata": {},
   "outputs": [],
   "source": [
    "df2=df2[df2.cardName=='UPI']"
   ]
  },
  {
   "cell_type": "code",
   "execution_count": 42,
   "metadata": {},
   "outputs": [
    {
     "data": {
      "text/plain": [
       "(1466, 43)"
      ]
     },
     "execution_count": 42,
     "metadata": {},
     "output_type": "execute_result"
    }
   ],
   "source": [
    "df2.shape"
   ]
  },
  {
   "cell_type": "code",
   "execution_count": 52,
   "metadata": {},
   "outputs": [],
   "source": [
    "df2.to_excel('Upi_trans.xlsx', index=False)"
   ]
  },
  {
   "cell_type": "code",
   "execution_count": 44,
   "metadata": {},
   "outputs": [],
   "source": [
    "df3=df2[df2.orderStatus=='Failure']"
   ]
  },
  {
   "cell_type": "code",
   "execution_count": 53,
   "metadata": {},
   "outputs": [],
   "source": [
    "df3.to_excel('FailedUPI.xlsx', index=False)"
   ]
  },
  {
   "cell_type": "code",
   "execution_count": 47,
   "metadata": {},
   "outputs": [],
   "source": [
    "df4=df2[df2.orderStatus=='Aborted']"
   ]
  },
  {
   "cell_type": "code",
   "execution_count": 54,
   "metadata": {},
   "outputs": [],
   "source": [
    "df4.to_excel('AbortedUPI.xlsx', index=False)"
   ]
  },
  {
   "cell_type": "code",
   "execution_count": 49,
   "metadata": {},
   "outputs": [
    {
     "data": {
      "text/plain": [
       "Success    1216\n",
       "Failure     128\n",
       "Aborted     122\n",
       "Name: orderStatus, dtype: int64"
      ]
     },
     "execution_count": 49,
     "metadata": {},
     "output_type": "execute_result"
    }
   ],
   "source": [
    "df2.orderStatus.value_counts()"
   ]
  },
  {
   "cell_type": "code",
   "execution_count": 50,
   "metadata": {},
   "outputs": [
    {
     "data": {
      "text/plain": [
       "(128, 43)"
      ]
     },
     "execution_count": 50,
     "metadata": {},
     "output_type": "execute_result"
    }
   ],
   "source": [
    "df3.shape"
   ]
  },
  {
   "cell_type": "code",
   "execution_count": 51,
   "metadata": {},
   "outputs": [
    {
     "data": {
      "text/plain": [
       "(122, 43)"
      ]
     },
     "execution_count": 51,
     "metadata": {},
     "output_type": "execute_result"
    }
   ],
   "source": [
    "df4.shape"
   ]
  },
  {
   "cell_type": "code",
   "execution_count": 40,
   "metadata": {},
   "outputs": [
    {
     "data": {
      "text/plain": [
       "['amount',\n",
       " 'bankRefNo',\n",
       " 'billingAddress',\n",
       " 'billingCity',\n",
       " 'billingCountry',\n",
       " 'billingEmail',\n",
       " 'billingName',\n",
       " 'billingNotes',\n",
       " 'billingState',\n",
       " 'billingTel',\n",
       " 'billingZip',\n",
       " 'binCountry',\n",
       " 'cardName',\n",
       " 'currency',\n",
       " 'deliveryAddress',\n",
       " 'deliveryCity',\n",
       " 'deliveryCountry',\n",
       " 'deliveryName',\n",
       " 'deliveryState',\n",
       " 'deliveryTel',\n",
       " 'deliveryZip',\n",
       " 'discountValue',\n",
       " 'eciValue',\n",
       " 'failureMessage',\n",
       " 'merAmount',\n",
       " 'merchantParam1',\n",
       " 'merchantParam2',\n",
       " 'merchantParam3',\n",
       " 'merchantParam4',\n",
       " 'merchantParam5',\n",
       " 'offerCode',\n",
       " 'offerType',\n",
       " 'orderId',\n",
       " 'orderStatus',\n",
       " 'paymentMode',\n",
       " 'responseCode',\n",
       " 'retry',\n",
       " 'statusCode',\n",
       " 'statusMessage',\n",
       " 'tempToken',\n",
       " 'trackingId',\n",
       " 'transDate',\n",
       " 'vault']"
      ]
     },
     "execution_count": 40,
     "metadata": {},
     "output_type": "execute_result"
    }
   ],
   "source": [
    "list(df2.columns)"
   ]
  },
  {
   "cell_type": "code",
   "execution_count": null,
   "metadata": {},
   "outputs": [],
   "source": []
  }
 ],
 "metadata": {
  "kernelspec": {
   "display_name": "Python 3",
   "language": "python",
   "name": "python3"
  },
  "language_info": {
   "codemirror_mode": {
    "name": "ipython",
    "version": 3
   },
   "file_extension": ".py",
   "mimetype": "text/x-python",
   "name": "python",
   "nbconvert_exporter": "python",
   "pygments_lexer": "ipython3",
   "version": "3.6.4"
  }
 },
 "nbformat": 4,
 "nbformat_minor": 2
}
